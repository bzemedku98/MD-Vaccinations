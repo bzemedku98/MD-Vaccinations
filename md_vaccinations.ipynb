{
 "cells": [
  {
   "cell_type": "markdown",
   "metadata": {},
   "source": [
    "# Excercise 9\n",
    "\n",
    "This is the excercise 9 for my jupyter notebook where we analyze a vaccination [dataset](https://coronavirus.maryland.gov/datasets/md-covid19-totalvaccinationscountyfirstandsecondsingledose/explore) provided by Maryland."
   ]
  },
  {
   "cell_type": "code",
   "execution_count": 4,
   "metadata": {},
   "outputs": [],
   "source": [
    "import pandas as pd"
   ]
  },
  {
   "cell_type": "code",
   "execution_count": 5,
   "metadata": {},
   "outputs": [
    {
     "name": "stdout",
     "output_type": "stream",
     "text": [
      "<class 'pandas.core.frame.DataFrame'>\n",
      "RangeIndex: 8172 entries, 0 to 8171\n",
      "Data columns (total 13 columns):\n",
      " #   Column                    Non-Null Count  Dtype              \n",
      "---  ------                    --------------  -----              \n",
      " 0   OBJECTID                  8172 non-null   int64              \n",
      " 1   VACCINATION_DATE          8172 non-null   datetime64[ns, UTC]\n",
      " 2   County                    7980 non-null   object             \n",
      " 3   FirstDoseDaily            8136 non-null   float64            \n",
      " 4   FirstDoseCumulative       8172 non-null   int64              \n",
      " 5   SecondDoseDaily           7793 non-null   float64            \n",
      " 6   SecondDoseCumulative      8172 non-null   int64              \n",
      " 7   SingleDoseDaily           5329 non-null   float64            \n",
      " 8   SingleDoseCumulative      8172 non-null   int64              \n",
      " 9   AtLeastOneDose            5322 non-null   float64            \n",
      " 10  FullyVaccinated           5324 non-null   float64            \n",
      " 11  FullVaccinatedCumulative  8172 non-null   int64              \n",
      " 12  AtLeastOneDoseCumulative  8172 non-null   int64              \n",
      "dtypes: datetime64[ns, UTC](1), float64(5), int64(6), object(1)\n",
      "memory usage: 830.1+ KB\n"
     ]
    }
   ],
   "source": [
    "df = pd.read_csv(\"MD Covid19 dataset.csv\",parse_dates=[\"VACCINATION_DATE\"])\n",
    "df.info()"
   ]
  },
  {
   "cell_type": "code",
   "execution_count": 6,
   "metadata": {},
   "outputs": [],
   "source": [
    "df = df.rename(columns={\"OBJECTID\": \"ObjectID\", \"VACCINATION_DATE\": \"VaccinationDate\"})\n"
   ]
  },
  {
   "cell_type": "code",
   "execution_count": 7,
   "metadata": {},
   "outputs": [
    {
     "data": {
      "text/html": [
       "<div>\n",
       "<style scoped>\n",
       "    .dataframe tbody tr th:only-of-type {\n",
       "        vertical-align: middle;\n",
       "    }\n",
       "\n",
       "    .dataframe tbody tr th {\n",
       "        vertical-align: top;\n",
       "    }\n",
       "\n",
       "    .dataframe thead th {\n",
       "        text-align: right;\n",
       "    }\n",
       "</style>\n",
       "<table border=\"1\" class=\"dataframe\">\n",
       "  <thead>\n",
       "    <tr style=\"text-align: right;\">\n",
       "      <th></th>\n",
       "      <th>ObjectID</th>\n",
       "      <th>VaccinationDate</th>\n",
       "      <th>County</th>\n",
       "      <th>FirstDoseDaily</th>\n",
       "      <th>FirstDoseCumulative</th>\n",
       "      <th>SecondDoseDaily</th>\n",
       "      <th>SecondDoseCumulative</th>\n",
       "      <th>SingleDoseDaily</th>\n",
       "      <th>SingleDoseCumulative</th>\n",
       "      <th>AtLeastOneDose</th>\n",
       "      <th>FullyVaccinated</th>\n",
       "      <th>FullVaccinatedCumulative</th>\n",
       "      <th>AtLeastOneDoseCumulative</th>\n",
       "      <th>Total Cumulative Vaccinations</th>\n",
       "    </tr>\n",
       "  </thead>\n",
       "  <tbody>\n",
       "    <tr>\n",
       "      <th>0</th>\n",
       "      <td>1</td>\n",
       "      <td>2020-12-14 15:00:00+00:00</td>\n",
       "      <td>Anne Arundel                                  ...</td>\n",
       "      <td>2.0</td>\n",
       "      <td>2</td>\n",
       "      <td>NaN</td>\n",
       "      <td>0</td>\n",
       "      <td>NaN</td>\n",
       "      <td>0</td>\n",
       "      <td>NaN</td>\n",
       "      <td>NaN</td>\n",
       "      <td>0</td>\n",
       "      <td>2</td>\n",
       "      <td>2</td>\n",
       "    </tr>\n",
       "    <tr>\n",
       "      <th>1</th>\n",
       "      <td>2</td>\n",
       "      <td>2020-12-15 15:00:00+00:00</td>\n",
       "      <td>Anne Arundel                                  ...</td>\n",
       "      <td>4.0</td>\n",
       "      <td>6</td>\n",
       "      <td>NaN</td>\n",
       "      <td>0</td>\n",
       "      <td>NaN</td>\n",
       "      <td>0</td>\n",
       "      <td>NaN</td>\n",
       "      <td>NaN</td>\n",
       "      <td>0</td>\n",
       "      <td>6</td>\n",
       "      <td>6</td>\n",
       "    </tr>\n",
       "    <tr>\n",
       "      <th>2</th>\n",
       "      <td>3</td>\n",
       "      <td>2020-12-16 15:00:00+00:00</td>\n",
       "      <td>Anne Arundel                                  ...</td>\n",
       "      <td>56.0</td>\n",
       "      <td>62</td>\n",
       "      <td>NaN</td>\n",
       "      <td>0</td>\n",
       "      <td>NaN</td>\n",
       "      <td>0</td>\n",
       "      <td>NaN</td>\n",
       "      <td>NaN</td>\n",
       "      <td>0</td>\n",
       "      <td>62</td>\n",
       "      <td>62</td>\n",
       "    </tr>\n",
       "    <tr>\n",
       "      <th>3</th>\n",
       "      <td>4</td>\n",
       "      <td>2020-12-17 15:00:00+00:00</td>\n",
       "      <td>Anne Arundel                                  ...</td>\n",
       "      <td>104.0</td>\n",
       "      <td>166</td>\n",
       "      <td>NaN</td>\n",
       "      <td>0</td>\n",
       "      <td>NaN</td>\n",
       "      <td>0</td>\n",
       "      <td>NaN</td>\n",
       "      <td>NaN</td>\n",
       "      <td>0</td>\n",
       "      <td>166</td>\n",
       "      <td>166</td>\n",
       "    </tr>\n",
       "    <tr>\n",
       "      <th>4</th>\n",
       "      <td>5</td>\n",
       "      <td>2020-12-18 15:00:00+00:00</td>\n",
       "      <td>Anne Arundel                                  ...</td>\n",
       "      <td>181.0</td>\n",
       "      <td>347</td>\n",
       "      <td>NaN</td>\n",
       "      <td>0</td>\n",
       "      <td>NaN</td>\n",
       "      <td>0</td>\n",
       "      <td>NaN</td>\n",
       "      <td>NaN</td>\n",
       "      <td>0</td>\n",
       "      <td>347</td>\n",
       "      <td>347</td>\n",
       "    </tr>\n",
       "    <tr>\n",
       "      <th>...</th>\n",
       "      <td>...</td>\n",
       "      <td>...</td>\n",
       "      <td>...</td>\n",
       "      <td>...</td>\n",
       "      <td>...</td>\n",
       "      <td>...</td>\n",
       "      <td>...</td>\n",
       "      <td>...</td>\n",
       "      <td>...</td>\n",
       "      <td>...</td>\n",
       "      <td>...</td>\n",
       "      <td>...</td>\n",
       "      <td>...</td>\n",
       "      <td>...</td>\n",
       "    </tr>\n",
       "    <tr>\n",
       "      <th>8167</th>\n",
       "      <td>8168</td>\n",
       "      <td>2021-10-27 15:00:00+00:00</td>\n",
       "      <td>Prince George's                               ...</td>\n",
       "      <td>638.0</td>\n",
       "      <td>534539</td>\n",
       "      <td>703.0</td>\n",
       "      <td>478208</td>\n",
       "      <td>45.0</td>\n",
       "      <td>30906</td>\n",
       "      <td>683.0</td>\n",
       "      <td>748.0</td>\n",
       "      <td>509114</td>\n",
       "      <td>565445</td>\n",
       "      <td>1012747</td>\n",
       "    </tr>\n",
       "    <tr>\n",
       "      <th>8168</th>\n",
       "      <td>8169</td>\n",
       "      <td>2021-10-28 15:00:00+00:00</td>\n",
       "      <td>Prince George's                               ...</td>\n",
       "      <td>543.0</td>\n",
       "      <td>535082</td>\n",
       "      <td>721.0</td>\n",
       "      <td>478929</td>\n",
       "      <td>26.0</td>\n",
       "      <td>30932</td>\n",
       "      <td>569.0</td>\n",
       "      <td>747.0</td>\n",
       "      <td>509861</td>\n",
       "      <td>566014</td>\n",
       "      <td>1014011</td>\n",
       "    </tr>\n",
       "    <tr>\n",
       "      <th>8169</th>\n",
       "      <td>8170</td>\n",
       "      <td>2021-10-29 15:00:00+00:00</td>\n",
       "      <td>Prince George's                               ...</td>\n",
       "      <td>627.0</td>\n",
       "      <td>535709</td>\n",
       "      <td>793.0</td>\n",
       "      <td>479722</td>\n",
       "      <td>32.0</td>\n",
       "      <td>30964</td>\n",
       "      <td>659.0</td>\n",
       "      <td>825.0</td>\n",
       "      <td>510686</td>\n",
       "      <td>566673</td>\n",
       "      <td>1015431</td>\n",
       "    </tr>\n",
       "    <tr>\n",
       "      <th>8170</th>\n",
       "      <td>8171</td>\n",
       "      <td>2021-10-30 15:00:00+00:00</td>\n",
       "      <td>Prince George's                               ...</td>\n",
       "      <td>356.0</td>\n",
       "      <td>536065</td>\n",
       "      <td>458.0</td>\n",
       "      <td>480180</td>\n",
       "      <td>10.0</td>\n",
       "      <td>30974</td>\n",
       "      <td>366.0</td>\n",
       "      <td>468.0</td>\n",
       "      <td>511154</td>\n",
       "      <td>567039</td>\n",
       "      <td>1016245</td>\n",
       "    </tr>\n",
       "    <tr>\n",
       "      <th>8171</th>\n",
       "      <td>8172</td>\n",
       "      <td>2021-10-31 15:00:00+00:00</td>\n",
       "      <td>Prince George's                               ...</td>\n",
       "      <td>108.0</td>\n",
       "      <td>536173</td>\n",
       "      <td>135.0</td>\n",
       "      <td>480315</td>\n",
       "      <td>3.0</td>\n",
       "      <td>30977</td>\n",
       "      <td>111.0</td>\n",
       "      <td>138.0</td>\n",
       "      <td>511292</td>\n",
       "      <td>567150</td>\n",
       "      <td>1016488</td>\n",
       "    </tr>\n",
       "  </tbody>\n",
       "</table>\n",
       "<p>8172 rows × 14 columns</p>\n",
       "</div>"
      ],
      "text/plain": [
       "      ObjectID           VaccinationDate  \\\n",
       "0            1 2020-12-14 15:00:00+00:00   \n",
       "1            2 2020-12-15 15:00:00+00:00   \n",
       "2            3 2020-12-16 15:00:00+00:00   \n",
       "3            4 2020-12-17 15:00:00+00:00   \n",
       "4            5 2020-12-18 15:00:00+00:00   \n",
       "...        ...                       ...   \n",
       "8167      8168 2021-10-27 15:00:00+00:00   \n",
       "8168      8169 2021-10-28 15:00:00+00:00   \n",
       "8169      8170 2021-10-29 15:00:00+00:00   \n",
       "8170      8171 2021-10-30 15:00:00+00:00   \n",
       "8171      8172 2021-10-31 15:00:00+00:00   \n",
       "\n",
       "                                                 County  FirstDoseDaily  \\\n",
       "0     Anne Arundel                                  ...             2.0   \n",
       "1     Anne Arundel                                  ...             4.0   \n",
       "2     Anne Arundel                                  ...            56.0   \n",
       "3     Anne Arundel                                  ...           104.0   \n",
       "4     Anne Arundel                                  ...           181.0   \n",
       "...                                                 ...             ...   \n",
       "8167  Prince George's                               ...           638.0   \n",
       "8168  Prince George's                               ...           543.0   \n",
       "8169  Prince George's                               ...           627.0   \n",
       "8170  Prince George's                               ...           356.0   \n",
       "8171  Prince George's                               ...           108.0   \n",
       "\n",
       "      FirstDoseCumulative  SecondDoseDaily  SecondDoseCumulative  \\\n",
       "0                       2              NaN                     0   \n",
       "1                       6              NaN                     0   \n",
       "2                      62              NaN                     0   \n",
       "3                     166              NaN                     0   \n",
       "4                     347              NaN                     0   \n",
       "...                   ...              ...                   ...   \n",
       "8167               534539            703.0                478208   \n",
       "8168               535082            721.0                478929   \n",
       "8169               535709            793.0                479722   \n",
       "8170               536065            458.0                480180   \n",
       "8171               536173            135.0                480315   \n",
       "\n",
       "      SingleDoseDaily  SingleDoseCumulative  AtLeastOneDose  FullyVaccinated  \\\n",
       "0                 NaN                     0             NaN              NaN   \n",
       "1                 NaN                     0             NaN              NaN   \n",
       "2                 NaN                     0             NaN              NaN   \n",
       "3                 NaN                     0             NaN              NaN   \n",
       "4                 NaN                     0             NaN              NaN   \n",
       "...               ...                   ...             ...              ...   \n",
       "8167             45.0                 30906           683.0            748.0   \n",
       "8168             26.0                 30932           569.0            747.0   \n",
       "8169             32.0                 30964           659.0            825.0   \n",
       "8170             10.0                 30974           366.0            468.0   \n",
       "8171              3.0                 30977           111.0            138.0   \n",
       "\n",
       "      FullVaccinatedCumulative  AtLeastOneDoseCumulative  \\\n",
       "0                            0                         2   \n",
       "1                            0                         6   \n",
       "2                            0                        62   \n",
       "3                            0                       166   \n",
       "4                            0                       347   \n",
       "...                        ...                       ...   \n",
       "8167                    509114                    565445   \n",
       "8168                    509861                    566014   \n",
       "8169                    510686                    566673   \n",
       "8170                    511154                    567039   \n",
       "8171                    511292                    567150   \n",
       "\n",
       "      Total Cumulative Vaccinations  \n",
       "0                                 2  \n",
       "1                                 6  \n",
       "2                                62  \n",
       "3                               166  \n",
       "4                               347  \n",
       "...                             ...  \n",
       "8167                        1012747  \n",
       "8168                        1014011  \n",
       "8169                        1015431  \n",
       "8170                        1016245  \n",
       "8171                        1016488  \n",
       "\n",
       "[8172 rows x 14 columns]"
      ]
     },
     "execution_count": 7,
     "metadata": {},
     "output_type": "execute_result"
    }
   ],
   "source": [
    "df[\"Total Cumulative Vaccinations\"] = df[\"FirstDoseCumulative\"] + df[\"SecondDoseCumulative\"]\n",
    "df"
   ]
  },
  {
   "cell_type": "code",
   "execution_count": 8,
   "metadata": {},
   "outputs": [
    {
     "data": {
      "text/html": [
       "<div>\n",
       "<style scoped>\n",
       "    .dataframe tbody tr th:only-of-type {\n",
       "        vertical-align: middle;\n",
       "    }\n",
       "\n",
       "    .dataframe tbody tr th {\n",
       "        vertical-align: top;\n",
       "    }\n",
       "\n",
       "    .dataframe thead th {\n",
       "        text-align: right;\n",
       "    }\n",
       "</style>\n",
       "<table border=\"1\" class=\"dataframe\">\n",
       "  <thead>\n",
       "    <tr style=\"text-align: right;\">\n",
       "      <th></th>\n",
       "      <th>ObjectID</th>\n",
       "      <th>VaccinationDate</th>\n",
       "      <th>County</th>\n",
       "      <th>FirstDoseDaily</th>\n",
       "      <th>FirstDoseCumulative</th>\n",
       "      <th>SecondDoseDaily</th>\n",
       "      <th>SecondDoseCumulative</th>\n",
       "      <th>SingleDoseDaily</th>\n",
       "      <th>SingleDoseCumulative</th>\n",
       "      <th>AtLeastOneDose</th>\n",
       "      <th>FullyVaccinated</th>\n",
       "      <th>FullVaccinatedCumulative</th>\n",
       "      <th>AtLeastOneDoseCumulative</th>\n",
       "      <th>Total Cumulative Vaccinations</th>\n",
       "    </tr>\n",
       "  </thead>\n",
       "  <tbody>\n",
       "    <tr>\n",
       "      <th>0</th>\n",
       "      <td>1</td>\n",
       "      <td>2020-12-14 15:00:00+00:00</td>\n",
       "      <td>Anne Arundel</td>\n",
       "      <td>2.0</td>\n",
       "      <td>2</td>\n",
       "      <td>NaN</td>\n",
       "      <td>0</td>\n",
       "      <td>NaN</td>\n",
       "      <td>0</td>\n",
       "      <td>NaN</td>\n",
       "      <td>NaN</td>\n",
       "      <td>0</td>\n",
       "      <td>2</td>\n",
       "      <td>2</td>\n",
       "    </tr>\n",
       "    <tr>\n",
       "      <th>1</th>\n",
       "      <td>2</td>\n",
       "      <td>2020-12-15 15:00:00+00:00</td>\n",
       "      <td>Anne Arundel</td>\n",
       "      <td>4.0</td>\n",
       "      <td>6</td>\n",
       "      <td>NaN</td>\n",
       "      <td>0</td>\n",
       "      <td>NaN</td>\n",
       "      <td>0</td>\n",
       "      <td>NaN</td>\n",
       "      <td>NaN</td>\n",
       "      <td>0</td>\n",
       "      <td>6</td>\n",
       "      <td>6</td>\n",
       "    </tr>\n",
       "    <tr>\n",
       "      <th>2</th>\n",
       "      <td>3</td>\n",
       "      <td>2020-12-16 15:00:00+00:00</td>\n",
       "      <td>Anne Arundel</td>\n",
       "      <td>56.0</td>\n",
       "      <td>62</td>\n",
       "      <td>NaN</td>\n",
       "      <td>0</td>\n",
       "      <td>NaN</td>\n",
       "      <td>0</td>\n",
       "      <td>NaN</td>\n",
       "      <td>NaN</td>\n",
       "      <td>0</td>\n",
       "      <td>62</td>\n",
       "      <td>62</td>\n",
       "    </tr>\n",
       "    <tr>\n",
       "      <th>3</th>\n",
       "      <td>4</td>\n",
       "      <td>2020-12-17 15:00:00+00:00</td>\n",
       "      <td>Anne Arundel</td>\n",
       "      <td>104.0</td>\n",
       "      <td>166</td>\n",
       "      <td>NaN</td>\n",
       "      <td>0</td>\n",
       "      <td>NaN</td>\n",
       "      <td>0</td>\n",
       "      <td>NaN</td>\n",
       "      <td>NaN</td>\n",
       "      <td>0</td>\n",
       "      <td>166</td>\n",
       "      <td>166</td>\n",
       "    </tr>\n",
       "    <tr>\n",
       "      <th>4</th>\n",
       "      <td>5</td>\n",
       "      <td>2020-12-18 15:00:00+00:00</td>\n",
       "      <td>Anne Arundel</td>\n",
       "      <td>181.0</td>\n",
       "      <td>347</td>\n",
       "      <td>NaN</td>\n",
       "      <td>0</td>\n",
       "      <td>NaN</td>\n",
       "      <td>0</td>\n",
       "      <td>NaN</td>\n",
       "      <td>NaN</td>\n",
       "      <td>0</td>\n",
       "      <td>347</td>\n",
       "      <td>347</td>\n",
       "    </tr>\n",
       "    <tr>\n",
       "      <th>...</th>\n",
       "      <td>...</td>\n",
       "      <td>...</td>\n",
       "      <td>...</td>\n",
       "      <td>...</td>\n",
       "      <td>...</td>\n",
       "      <td>...</td>\n",
       "      <td>...</td>\n",
       "      <td>...</td>\n",
       "      <td>...</td>\n",
       "      <td>...</td>\n",
       "      <td>...</td>\n",
       "      <td>...</td>\n",
       "      <td>...</td>\n",
       "      <td>...</td>\n",
       "    </tr>\n",
       "    <tr>\n",
       "      <th>8167</th>\n",
       "      <td>8168</td>\n",
       "      <td>2021-10-27 15:00:00+00:00</td>\n",
       "      <td>Prince George's</td>\n",
       "      <td>638.0</td>\n",
       "      <td>534539</td>\n",
       "      <td>703.0</td>\n",
       "      <td>478208</td>\n",
       "      <td>45.0</td>\n",
       "      <td>30906</td>\n",
       "      <td>683.0</td>\n",
       "      <td>748.0</td>\n",
       "      <td>509114</td>\n",
       "      <td>565445</td>\n",
       "      <td>1012747</td>\n",
       "    </tr>\n",
       "    <tr>\n",
       "      <th>8168</th>\n",
       "      <td>8169</td>\n",
       "      <td>2021-10-28 15:00:00+00:00</td>\n",
       "      <td>Prince George's</td>\n",
       "      <td>543.0</td>\n",
       "      <td>535082</td>\n",
       "      <td>721.0</td>\n",
       "      <td>478929</td>\n",
       "      <td>26.0</td>\n",
       "      <td>30932</td>\n",
       "      <td>569.0</td>\n",
       "      <td>747.0</td>\n",
       "      <td>509861</td>\n",
       "      <td>566014</td>\n",
       "      <td>1014011</td>\n",
       "    </tr>\n",
       "    <tr>\n",
       "      <th>8169</th>\n",
       "      <td>8170</td>\n",
       "      <td>2021-10-29 15:00:00+00:00</td>\n",
       "      <td>Prince George's</td>\n",
       "      <td>627.0</td>\n",
       "      <td>535709</td>\n",
       "      <td>793.0</td>\n",
       "      <td>479722</td>\n",
       "      <td>32.0</td>\n",
       "      <td>30964</td>\n",
       "      <td>659.0</td>\n",
       "      <td>825.0</td>\n",
       "      <td>510686</td>\n",
       "      <td>566673</td>\n",
       "      <td>1015431</td>\n",
       "    </tr>\n",
       "    <tr>\n",
       "      <th>8170</th>\n",
       "      <td>8171</td>\n",
       "      <td>2021-10-30 15:00:00+00:00</td>\n",
       "      <td>Prince George's</td>\n",
       "      <td>356.0</td>\n",
       "      <td>536065</td>\n",
       "      <td>458.0</td>\n",
       "      <td>480180</td>\n",
       "      <td>10.0</td>\n",
       "      <td>30974</td>\n",
       "      <td>366.0</td>\n",
       "      <td>468.0</td>\n",
       "      <td>511154</td>\n",
       "      <td>567039</td>\n",
       "      <td>1016245</td>\n",
       "    </tr>\n",
       "    <tr>\n",
       "      <th>8171</th>\n",
       "      <td>8172</td>\n",
       "      <td>2021-10-31 15:00:00+00:00</td>\n",
       "      <td>Prince George's</td>\n",
       "      <td>108.0</td>\n",
       "      <td>536173</td>\n",
       "      <td>135.0</td>\n",
       "      <td>480315</td>\n",
       "      <td>3.0</td>\n",
       "      <td>30977</td>\n",
       "      <td>111.0</td>\n",
       "      <td>138.0</td>\n",
       "      <td>511292</td>\n",
       "      <td>567150</td>\n",
       "      <td>1016488</td>\n",
       "    </tr>\n",
       "  </tbody>\n",
       "</table>\n",
       "<p>8172 rows × 14 columns</p>\n",
       "</div>"
      ],
      "text/plain": [
       "      ObjectID           VaccinationDate           County  FirstDoseDaily  \\\n",
       "0            1 2020-12-14 15:00:00+00:00     Anne Arundel             2.0   \n",
       "1            2 2020-12-15 15:00:00+00:00     Anne Arundel             4.0   \n",
       "2            3 2020-12-16 15:00:00+00:00     Anne Arundel            56.0   \n",
       "3            4 2020-12-17 15:00:00+00:00     Anne Arundel           104.0   \n",
       "4            5 2020-12-18 15:00:00+00:00     Anne Arundel           181.0   \n",
       "...        ...                       ...              ...             ...   \n",
       "8167      8168 2021-10-27 15:00:00+00:00  Prince George's           638.0   \n",
       "8168      8169 2021-10-28 15:00:00+00:00  Prince George's           543.0   \n",
       "8169      8170 2021-10-29 15:00:00+00:00  Prince George's           627.0   \n",
       "8170      8171 2021-10-30 15:00:00+00:00  Prince George's           356.0   \n",
       "8171      8172 2021-10-31 15:00:00+00:00  Prince George's           108.0   \n",
       "\n",
       "      FirstDoseCumulative  SecondDoseDaily  SecondDoseCumulative  \\\n",
       "0                       2              NaN                     0   \n",
       "1                       6              NaN                     0   \n",
       "2                      62              NaN                     0   \n",
       "3                     166              NaN                     0   \n",
       "4                     347              NaN                     0   \n",
       "...                   ...              ...                   ...   \n",
       "8167               534539            703.0                478208   \n",
       "8168               535082            721.0                478929   \n",
       "8169               535709            793.0                479722   \n",
       "8170               536065            458.0                480180   \n",
       "8171               536173            135.0                480315   \n",
       "\n",
       "      SingleDoseDaily  SingleDoseCumulative  AtLeastOneDose  FullyVaccinated  \\\n",
       "0                 NaN                     0             NaN              NaN   \n",
       "1                 NaN                     0             NaN              NaN   \n",
       "2                 NaN                     0             NaN              NaN   \n",
       "3                 NaN                     0             NaN              NaN   \n",
       "4                 NaN                     0             NaN              NaN   \n",
       "...               ...                   ...             ...              ...   \n",
       "8167             45.0                 30906           683.0            748.0   \n",
       "8168             26.0                 30932           569.0            747.0   \n",
       "8169             32.0                 30964           659.0            825.0   \n",
       "8170             10.0                 30974           366.0            468.0   \n",
       "8171              3.0                 30977           111.0            138.0   \n",
       "\n",
       "      FullVaccinatedCumulative  AtLeastOneDoseCumulative  \\\n",
       "0                            0                         2   \n",
       "1                            0                         6   \n",
       "2                            0                        62   \n",
       "3                            0                       166   \n",
       "4                            0                       347   \n",
       "...                        ...                       ...   \n",
       "8167                    509114                    565445   \n",
       "8168                    509861                    566014   \n",
       "8169                    510686                    566673   \n",
       "8170                    511154                    567039   \n",
       "8171                    511292                    567150   \n",
       "\n",
       "      Total Cumulative Vaccinations  \n",
       "0                                 2  \n",
       "1                                 6  \n",
       "2                                62  \n",
       "3                               166  \n",
       "4                               347  \n",
       "...                             ...  \n",
       "8167                        1012747  \n",
       "8168                        1014011  \n",
       "8169                        1015431  \n",
       "8170                        1016245  \n",
       "8171                        1016488  \n",
       "\n",
       "[8172 rows x 14 columns]"
      ]
     },
     "execution_count": 8,
     "metadata": {},
     "output_type": "execute_result"
    }
   ],
   "source": [
    "df[\"County\"] = df[\"County\"].str.strip()\n",
    "df"
   ]
  },
  {
   "cell_type": "code",
   "execution_count": 9,
   "metadata": {},
   "outputs": [
    {
     "data": {
      "text/html": [
       "<div>\n",
       "<style scoped>\n",
       "    .dataframe tbody tr th:only-of-type {\n",
       "        vertical-align: middle;\n",
       "    }\n",
       "\n",
       "    .dataframe tbody tr th {\n",
       "        vertical-align: top;\n",
       "    }\n",
       "\n",
       "    .dataframe thead th {\n",
       "        text-align: right;\n",
       "    }\n",
       "</style>\n",
       "<table border=\"1\" class=\"dataframe\">\n",
       "  <thead>\n",
       "    <tr style=\"text-align: right;\">\n",
       "      <th></th>\n",
       "      <th>ObjectID</th>\n",
       "      <th>VaccinationDate</th>\n",
       "      <th>County</th>\n",
       "      <th>FirstDoseDaily</th>\n",
       "      <th>FirstDoseCumulative</th>\n",
       "      <th>SecondDoseDaily</th>\n",
       "      <th>SecondDoseCumulative</th>\n",
       "      <th>SingleDoseDaily</th>\n",
       "      <th>SingleDoseCumulative</th>\n",
       "      <th>AtLeastOneDose</th>\n",
       "      <th>FullyVaccinated</th>\n",
       "      <th>FullVaccinatedCumulative</th>\n",
       "      <th>AtLeastOneDoseCumulative</th>\n",
       "      <th>Total Cumulative Vaccinations</th>\n",
       "    </tr>\n",
       "  </thead>\n",
       "  <tbody>\n",
       "    <tr>\n",
       "      <th>7802</th>\n",
       "      <td>7803</td>\n",
       "      <td>2020-12-14 15:00:00+00:00</td>\n",
       "      <td>Prince George's</td>\n",
       "      <td>1.0</td>\n",
       "      <td>1</td>\n",
       "      <td>NaN</td>\n",
       "      <td>0</td>\n",
       "      <td>NaN</td>\n",
       "      <td>0</td>\n",
       "      <td>NaN</td>\n",
       "      <td>NaN</td>\n",
       "      <td>0</td>\n",
       "      <td>1</td>\n",
       "      <td>1</td>\n",
       "    </tr>\n",
       "    <tr>\n",
       "      <th>7803</th>\n",
       "      <td>7804</td>\n",
       "      <td>2020-12-15 15:00:00+00:00</td>\n",
       "      <td>Prince George's</td>\n",
       "      <td>3.0</td>\n",
       "      <td>4</td>\n",
       "      <td>NaN</td>\n",
       "      <td>0</td>\n",
       "      <td>NaN</td>\n",
       "      <td>0</td>\n",
       "      <td>NaN</td>\n",
       "      <td>NaN</td>\n",
       "      <td>0</td>\n",
       "      <td>4</td>\n",
       "      <td>4</td>\n",
       "    </tr>\n",
       "    <tr>\n",
       "      <th>7804</th>\n",
       "      <td>7805</td>\n",
       "      <td>2020-12-16 15:00:00+00:00</td>\n",
       "      <td>Prince George's</td>\n",
       "      <td>18.0</td>\n",
       "      <td>22</td>\n",
       "      <td>NaN</td>\n",
       "      <td>0</td>\n",
       "      <td>NaN</td>\n",
       "      <td>0</td>\n",
       "      <td>NaN</td>\n",
       "      <td>NaN</td>\n",
       "      <td>0</td>\n",
       "      <td>22</td>\n",
       "      <td>22</td>\n",
       "    </tr>\n",
       "    <tr>\n",
       "      <th>7853</th>\n",
       "      <td>7854</td>\n",
       "      <td>2020-12-17 15:00:00+00:00</td>\n",
       "      <td>Prince George's</td>\n",
       "      <td>21.0</td>\n",
       "      <td>43</td>\n",
       "      <td>NaN</td>\n",
       "      <td>0</td>\n",
       "      <td>NaN</td>\n",
       "      <td>0</td>\n",
       "      <td>NaN</td>\n",
       "      <td>NaN</td>\n",
       "      <td>0</td>\n",
       "      <td>43</td>\n",
       "      <td>43</td>\n",
       "    </tr>\n",
       "    <tr>\n",
       "      <th>7854</th>\n",
       "      <td>7855</td>\n",
       "      <td>2020-12-18 15:00:00+00:00</td>\n",
       "      <td>Prince George's</td>\n",
       "      <td>60.0</td>\n",
       "      <td>103</td>\n",
       "      <td>NaN</td>\n",
       "      <td>0</td>\n",
       "      <td>NaN</td>\n",
       "      <td>0</td>\n",
       "      <td>NaN</td>\n",
       "      <td>NaN</td>\n",
       "      <td>0</td>\n",
       "      <td>103</td>\n",
       "      <td>103</td>\n",
       "    </tr>\n",
       "    <tr>\n",
       "      <th>...</th>\n",
       "      <td>...</td>\n",
       "      <td>...</td>\n",
       "      <td>...</td>\n",
       "      <td>...</td>\n",
       "      <td>...</td>\n",
       "      <td>...</td>\n",
       "      <td>...</td>\n",
       "      <td>...</td>\n",
       "      <td>...</td>\n",
       "      <td>...</td>\n",
       "      <td>...</td>\n",
       "      <td>...</td>\n",
       "      <td>...</td>\n",
       "      <td>...</td>\n",
       "    </tr>\n",
       "    <tr>\n",
       "      <th>8167</th>\n",
       "      <td>8168</td>\n",
       "      <td>2021-10-27 15:00:00+00:00</td>\n",
       "      <td>Prince George's</td>\n",
       "      <td>638.0</td>\n",
       "      <td>534539</td>\n",
       "      <td>703.0</td>\n",
       "      <td>478208</td>\n",
       "      <td>45.0</td>\n",
       "      <td>30906</td>\n",
       "      <td>683.0</td>\n",
       "      <td>748.0</td>\n",
       "      <td>509114</td>\n",
       "      <td>565445</td>\n",
       "      <td>1012747</td>\n",
       "    </tr>\n",
       "    <tr>\n",
       "      <th>8168</th>\n",
       "      <td>8169</td>\n",
       "      <td>2021-10-28 15:00:00+00:00</td>\n",
       "      <td>Prince George's</td>\n",
       "      <td>543.0</td>\n",
       "      <td>535082</td>\n",
       "      <td>721.0</td>\n",
       "      <td>478929</td>\n",
       "      <td>26.0</td>\n",
       "      <td>30932</td>\n",
       "      <td>569.0</td>\n",
       "      <td>747.0</td>\n",
       "      <td>509861</td>\n",
       "      <td>566014</td>\n",
       "      <td>1014011</td>\n",
       "    </tr>\n",
       "    <tr>\n",
       "      <th>8169</th>\n",
       "      <td>8170</td>\n",
       "      <td>2021-10-29 15:00:00+00:00</td>\n",
       "      <td>Prince George's</td>\n",
       "      <td>627.0</td>\n",
       "      <td>535709</td>\n",
       "      <td>793.0</td>\n",
       "      <td>479722</td>\n",
       "      <td>32.0</td>\n",
       "      <td>30964</td>\n",
       "      <td>659.0</td>\n",
       "      <td>825.0</td>\n",
       "      <td>510686</td>\n",
       "      <td>566673</td>\n",
       "      <td>1015431</td>\n",
       "    </tr>\n",
       "    <tr>\n",
       "      <th>8170</th>\n",
       "      <td>8171</td>\n",
       "      <td>2021-10-30 15:00:00+00:00</td>\n",
       "      <td>Prince George's</td>\n",
       "      <td>356.0</td>\n",
       "      <td>536065</td>\n",
       "      <td>458.0</td>\n",
       "      <td>480180</td>\n",
       "      <td>10.0</td>\n",
       "      <td>30974</td>\n",
       "      <td>366.0</td>\n",
       "      <td>468.0</td>\n",
       "      <td>511154</td>\n",
       "      <td>567039</td>\n",
       "      <td>1016245</td>\n",
       "    </tr>\n",
       "    <tr>\n",
       "      <th>8171</th>\n",
       "      <td>8172</td>\n",
       "      <td>2021-10-31 15:00:00+00:00</td>\n",
       "      <td>Prince George's</td>\n",
       "      <td>108.0</td>\n",
       "      <td>536173</td>\n",
       "      <td>135.0</td>\n",
       "      <td>480315</td>\n",
       "      <td>3.0</td>\n",
       "      <td>30977</td>\n",
       "      <td>111.0</td>\n",
       "      <td>138.0</td>\n",
       "      <td>511292</td>\n",
       "      <td>567150</td>\n",
       "      <td>1016488</td>\n",
       "    </tr>\n",
       "  </tbody>\n",
       "</table>\n",
       "<p>322 rows × 14 columns</p>\n",
       "</div>"
      ],
      "text/plain": [
       "      ObjectID           VaccinationDate           County  FirstDoseDaily  \\\n",
       "7802      7803 2020-12-14 15:00:00+00:00  Prince George's             1.0   \n",
       "7803      7804 2020-12-15 15:00:00+00:00  Prince George's             3.0   \n",
       "7804      7805 2020-12-16 15:00:00+00:00  Prince George's            18.0   \n",
       "7853      7854 2020-12-17 15:00:00+00:00  Prince George's            21.0   \n",
       "7854      7855 2020-12-18 15:00:00+00:00  Prince George's            60.0   \n",
       "...        ...                       ...              ...             ...   \n",
       "8167      8168 2021-10-27 15:00:00+00:00  Prince George's           638.0   \n",
       "8168      8169 2021-10-28 15:00:00+00:00  Prince George's           543.0   \n",
       "8169      8170 2021-10-29 15:00:00+00:00  Prince George's           627.0   \n",
       "8170      8171 2021-10-30 15:00:00+00:00  Prince George's           356.0   \n",
       "8171      8172 2021-10-31 15:00:00+00:00  Prince George's           108.0   \n",
       "\n",
       "      FirstDoseCumulative  SecondDoseDaily  SecondDoseCumulative  \\\n",
       "7802                    1              NaN                     0   \n",
       "7803                    4              NaN                     0   \n",
       "7804                   22              NaN                     0   \n",
       "7853                   43              NaN                     0   \n",
       "7854                  103              NaN                     0   \n",
       "...                   ...              ...                   ...   \n",
       "8167               534539            703.0                478208   \n",
       "8168               535082            721.0                478929   \n",
       "8169               535709            793.0                479722   \n",
       "8170               536065            458.0                480180   \n",
       "8171               536173            135.0                480315   \n",
       "\n",
       "      SingleDoseDaily  SingleDoseCumulative  AtLeastOneDose  FullyVaccinated  \\\n",
       "7802              NaN                     0             NaN              NaN   \n",
       "7803              NaN                     0             NaN              NaN   \n",
       "7804              NaN                     0             NaN              NaN   \n",
       "7853              NaN                     0             NaN              NaN   \n",
       "7854              NaN                     0             NaN              NaN   \n",
       "...               ...                   ...             ...              ...   \n",
       "8167             45.0                 30906           683.0            748.0   \n",
       "8168             26.0                 30932           569.0            747.0   \n",
       "8169             32.0                 30964           659.0            825.0   \n",
       "8170             10.0                 30974           366.0            468.0   \n",
       "8171              3.0                 30977           111.0            138.0   \n",
       "\n",
       "      FullVaccinatedCumulative  AtLeastOneDoseCumulative  \\\n",
       "7802                         0                         1   \n",
       "7803                         0                         4   \n",
       "7804                         0                        22   \n",
       "7853                         0                        43   \n",
       "7854                         0                       103   \n",
       "...                        ...                       ...   \n",
       "8167                    509114                    565445   \n",
       "8168                    509861                    566014   \n",
       "8169                    510686                    566673   \n",
       "8170                    511154                    567039   \n",
       "8171                    511292                    567150   \n",
       "\n",
       "      Total Cumulative Vaccinations  \n",
       "7802                              1  \n",
       "7803                              4  \n",
       "7804                             22  \n",
       "7853                             43  \n",
       "7854                            103  \n",
       "...                             ...  \n",
       "8167                        1012747  \n",
       "8168                        1014011  \n",
       "8169                        1015431  \n",
       "8170                        1016245  \n",
       "8171                        1016488  \n",
       "\n",
       "[322 rows x 14 columns]"
      ]
     },
     "execution_count": 9,
     "metadata": {},
     "output_type": "execute_result"
    }
   ],
   "source": [
    "pg = df[df[\"County\"] == \"Prince George's\"]\n",
    "pg"
   ]
  },
  {
   "cell_type": "code",
   "execution_count": 10,
   "metadata": {},
   "outputs": [
    {
     "data": {
      "application/vnd.plotly.v1+json": {
       "config": {
        "plotlyServerURL": "https://plot.ly"
       },
       "data": [
        {
         "hovertemplate": "VaccinationDate=%{x}<br>Total Cumulative Vaccinations=%{y}<extra></extra>",
         "legendgroup": "",
         "line": {
          "color": "#636efa",
          "dash": "solid"
         },
         "marker": {
          "symbol": "circle"
         },
         "mode": "lines",
         "name": "",
         "orientation": "v",
         "showlegend": false,
         "type": "scatter",
         "x": [
          "2020-12-14T15:00:00+00:00",
          "2020-12-15T15:00:00+00:00",
          "2020-12-16T15:00:00+00:00",
          "2020-12-17T15:00:00+00:00",
          "2020-12-18T15:00:00+00:00",
          "2020-12-19T15:00:00+00:00",
          "2020-12-20T15:00:00+00:00",
          "2020-12-21T15:00:00+00:00",
          "2020-12-22T15:00:00+00:00",
          "2020-12-23T15:00:00+00:00",
          "2020-12-24T15:00:00+00:00",
          "2020-12-25T15:00:00+00:00",
          "2020-12-26T15:00:00+00:00",
          "2020-12-27T15:00:00+00:00",
          "2020-12-28T15:00:00+00:00",
          "2020-12-29T15:00:00+00:00",
          "2020-12-30T15:00:00+00:00",
          "2020-12-31T15:00:00+00:00",
          "2021-01-01T15:00:00+00:00",
          "2021-01-02T15:00:00+00:00",
          "2021-01-03T15:00:00+00:00",
          "2021-01-04T15:00:00+00:00",
          "2021-01-05T15:00:00+00:00",
          "2021-01-06T15:00:00+00:00",
          "2021-01-07T15:00:00+00:00",
          "2021-01-08T15:00:00+00:00",
          "2021-01-09T15:00:00+00:00",
          "2021-01-10T15:00:00+00:00",
          "2021-01-11T15:00:00+00:00",
          "2021-01-12T15:00:00+00:00",
          "2021-01-13T15:00:00+00:00",
          "2021-01-14T15:00:00+00:00",
          "2021-01-15T15:00:00+00:00",
          "2021-01-16T15:00:00+00:00",
          "2021-01-17T15:00:00+00:00",
          "2021-01-18T15:00:00+00:00",
          "2021-01-19T15:00:00+00:00",
          "2021-01-20T15:00:00+00:00",
          "2021-01-21T15:00:00+00:00",
          "2021-01-22T15:00:00+00:00",
          "2021-01-23T15:00:00+00:00",
          "2021-01-24T15:00:00+00:00",
          "2021-01-25T15:00:00+00:00",
          "2021-01-26T15:00:00+00:00",
          "2021-01-27T15:00:00+00:00",
          "2021-01-28T15:00:00+00:00",
          "2021-01-29T15:00:00+00:00",
          "2021-01-30T15:00:00+00:00",
          "2021-01-31T15:00:00+00:00",
          "2021-02-01T15:00:00+00:00",
          "2021-02-02T15:00:00+00:00",
          "2021-02-03T15:00:00+00:00",
          "2021-02-04T15:00:00+00:00",
          "2021-02-05T15:00:00+00:00",
          "2021-02-06T15:00:00+00:00",
          "2021-02-07T15:00:00+00:00",
          "2021-02-08T15:00:00+00:00",
          "2021-02-09T15:00:00+00:00",
          "2021-02-10T15:00:00+00:00",
          "2021-02-11T15:00:00+00:00",
          "2021-02-12T15:00:00+00:00",
          "2021-02-13T15:00:00+00:00",
          "2021-02-14T15:00:00+00:00",
          "2021-02-15T15:00:00+00:00",
          "2021-02-16T15:00:00+00:00",
          "2021-02-17T15:00:00+00:00",
          "2021-02-18T15:00:00+00:00",
          "2021-02-19T15:00:00+00:00",
          "2021-02-20T15:00:00+00:00",
          "2021-02-21T15:00:00+00:00",
          "2021-02-22T15:00:00+00:00",
          "2021-02-23T15:00:00+00:00",
          "2021-02-24T15:00:00+00:00",
          "2021-02-25T15:00:00+00:00",
          "2021-02-26T15:00:00+00:00",
          "2021-02-27T15:00:00+00:00",
          "2021-02-28T15:00:00+00:00",
          "2021-03-01T15:00:00+00:00",
          "2021-03-02T15:00:00+00:00",
          "2021-03-03T15:00:00+00:00",
          "2021-03-04T15:00:00+00:00",
          "2021-03-05T15:00:00+00:00",
          "2021-03-06T15:00:00+00:00",
          "2021-03-07T15:00:00+00:00",
          "2021-03-08T15:00:00+00:00",
          "2021-03-09T15:00:00+00:00",
          "2021-03-10T15:00:00+00:00",
          "2021-03-11T15:00:00+00:00",
          "2021-03-12T15:00:00+00:00",
          "2021-03-13T15:00:00+00:00",
          "2021-03-14T15:00:00+00:00",
          "2021-03-15T15:00:00+00:00",
          "2021-03-16T15:00:00+00:00",
          "2021-03-17T15:00:00+00:00",
          "2021-03-18T15:00:00+00:00",
          "2021-03-19T15:00:00+00:00",
          "2021-03-20T15:00:00+00:00",
          "2021-03-21T15:00:00+00:00",
          "2021-03-22T15:00:00+00:00",
          "2021-03-23T15:00:00+00:00",
          "2021-03-24T15:00:00+00:00",
          "2021-03-25T15:00:00+00:00",
          "2021-03-26T15:00:00+00:00",
          "2021-03-27T15:00:00+00:00",
          "2021-03-28T15:00:00+00:00",
          "2021-03-29T15:00:00+00:00",
          "2021-03-30T15:00:00+00:00",
          "2021-03-31T15:00:00+00:00",
          "2021-04-01T15:00:00+00:00",
          "2021-04-02T15:00:00+00:00",
          "2021-04-03T15:00:00+00:00",
          "2021-04-04T15:00:00+00:00",
          "2021-04-05T15:00:00+00:00",
          "2021-04-06T15:00:00+00:00",
          "2021-04-07T15:00:00+00:00",
          "2021-04-08T15:00:00+00:00",
          "2021-04-09T15:00:00+00:00",
          "2021-04-10T15:00:00+00:00",
          "2021-04-11T15:00:00+00:00",
          "2021-04-12T15:00:00+00:00",
          "2021-04-13T15:00:00+00:00",
          "2021-04-14T15:00:00+00:00",
          "2021-04-15T15:00:00+00:00",
          "2021-04-16T15:00:00+00:00",
          "2021-04-17T15:00:00+00:00",
          "2021-04-18T15:00:00+00:00",
          "2021-04-19T15:00:00+00:00",
          "2021-04-20T15:00:00+00:00",
          "2021-04-21T15:00:00+00:00",
          "2021-04-22T15:00:00+00:00",
          "2021-04-23T15:00:00+00:00",
          "2021-04-24T15:00:00+00:00",
          "2021-04-25T15:00:00+00:00",
          "2021-04-26T15:00:00+00:00",
          "2021-04-27T15:00:00+00:00",
          "2021-04-28T15:00:00+00:00",
          "2021-04-29T15:00:00+00:00",
          "2021-04-30T15:00:00+00:00",
          "2021-05-01T15:00:00+00:00",
          "2021-05-02T15:00:00+00:00",
          "2021-05-03T15:00:00+00:00",
          "2021-05-04T15:00:00+00:00",
          "2021-05-05T15:00:00+00:00",
          "2021-05-06T15:00:00+00:00",
          "2021-05-07T15:00:00+00:00",
          "2021-05-08T15:00:00+00:00",
          "2021-05-09T15:00:00+00:00",
          "2021-05-10T15:00:00+00:00",
          "2021-05-11T15:00:00+00:00",
          "2021-05-12T15:00:00+00:00",
          "2021-05-13T15:00:00+00:00",
          "2021-05-14T15:00:00+00:00",
          "2021-05-15T15:00:00+00:00",
          "2021-05-16T15:00:00+00:00",
          "2021-05-17T15:00:00+00:00",
          "2021-05-18T15:00:00+00:00",
          "2021-05-19T15:00:00+00:00",
          "2021-05-20T15:00:00+00:00",
          "2021-05-21T15:00:00+00:00",
          "2021-05-22T15:00:00+00:00",
          "2021-05-23T15:00:00+00:00",
          "2021-05-24T15:00:00+00:00",
          "2021-05-25T15:00:00+00:00",
          "2021-05-26T15:00:00+00:00",
          "2021-05-27T15:00:00+00:00",
          "2021-05-28T15:00:00+00:00",
          "2021-05-29T15:00:00+00:00",
          "2021-05-30T15:00:00+00:00",
          "2021-05-31T15:00:00+00:00",
          "2021-06-01T15:00:00+00:00",
          "2021-06-02T15:00:00+00:00",
          "2021-06-03T15:00:00+00:00",
          "2021-06-04T15:00:00+00:00",
          "2021-06-05T15:00:00+00:00",
          "2021-06-06T15:00:00+00:00",
          "2021-06-07T15:00:00+00:00",
          "2021-06-08T15:00:00+00:00",
          "2021-06-09T15:00:00+00:00",
          "2021-06-10T15:00:00+00:00",
          "2021-06-11T15:00:00+00:00",
          "2021-06-12T15:00:00+00:00",
          "2021-06-13T15:00:00+00:00",
          "2021-06-14T15:00:00+00:00",
          "2021-06-15T15:00:00+00:00",
          "2021-06-16T15:00:00+00:00",
          "2021-06-17T15:00:00+00:00",
          "2021-06-18T15:00:00+00:00",
          "2021-06-19T15:00:00+00:00",
          "2021-06-20T15:00:00+00:00",
          "2021-06-21T15:00:00+00:00",
          "2021-06-22T15:00:00+00:00",
          "2021-06-23T15:00:00+00:00",
          "2021-06-24T15:00:00+00:00",
          "2021-06-25T15:00:00+00:00",
          "2021-06-26T15:00:00+00:00",
          "2021-06-27T15:00:00+00:00",
          "2021-06-28T15:00:00+00:00",
          "2021-06-29T15:00:00+00:00",
          "2021-06-30T15:00:00+00:00",
          "2021-07-01T15:00:00+00:00",
          "2021-07-02T15:00:00+00:00",
          "2021-07-03T15:00:00+00:00",
          "2021-07-04T15:00:00+00:00",
          "2021-07-05T15:00:00+00:00",
          "2021-07-06T15:00:00+00:00",
          "2021-07-07T15:00:00+00:00",
          "2021-07-08T15:00:00+00:00",
          "2021-07-09T15:00:00+00:00",
          "2021-07-10T15:00:00+00:00",
          "2021-07-11T15:00:00+00:00",
          "2021-07-12T15:00:00+00:00",
          "2021-07-13T15:00:00+00:00",
          "2021-07-14T15:00:00+00:00",
          "2021-07-15T15:00:00+00:00",
          "2021-07-16T15:00:00+00:00",
          "2021-07-17T15:00:00+00:00",
          "2021-07-18T15:00:00+00:00",
          "2021-07-19T15:00:00+00:00",
          "2021-07-20T15:00:00+00:00",
          "2021-07-21T15:00:00+00:00",
          "2021-07-22T15:00:00+00:00",
          "2021-07-23T15:00:00+00:00",
          "2021-07-24T15:00:00+00:00",
          "2021-07-25T15:00:00+00:00",
          "2021-07-26T15:00:00+00:00",
          "2021-07-27T15:00:00+00:00",
          "2021-07-28T15:00:00+00:00",
          "2021-07-29T15:00:00+00:00",
          "2021-07-30T15:00:00+00:00",
          "2021-07-31T15:00:00+00:00",
          "2021-08-01T15:00:00+00:00",
          "2021-08-02T15:00:00+00:00",
          "2021-08-03T15:00:00+00:00",
          "2021-08-04T15:00:00+00:00",
          "2021-08-05T15:00:00+00:00",
          "2021-08-06T15:00:00+00:00",
          "2021-08-07T15:00:00+00:00",
          "2021-08-08T15:00:00+00:00",
          "2021-08-09T15:00:00+00:00",
          "2021-08-10T15:00:00+00:00",
          "2021-08-11T15:00:00+00:00",
          "2021-08-12T15:00:00+00:00",
          "2021-08-13T15:00:00+00:00",
          "2021-08-14T15:00:00+00:00",
          "2021-08-15T15:00:00+00:00",
          "2021-08-16T15:00:00+00:00",
          "2021-08-17T15:00:00+00:00",
          "2021-08-18T15:00:00+00:00",
          "2021-08-19T15:00:00+00:00",
          "2021-08-20T15:00:00+00:00",
          "2021-08-21T15:00:00+00:00",
          "2021-08-22T15:00:00+00:00",
          "2021-08-23T15:00:00+00:00",
          "2021-08-24T15:00:00+00:00",
          "2021-08-25T15:00:00+00:00",
          "2021-08-26T15:00:00+00:00",
          "2021-08-27T15:00:00+00:00",
          "2021-08-28T15:00:00+00:00",
          "2021-08-29T15:00:00+00:00",
          "2021-08-30T15:00:00+00:00",
          "2021-08-31T15:00:00+00:00",
          "2021-09-01T15:00:00+00:00",
          "2021-09-02T15:00:00+00:00",
          "2021-09-03T15:00:00+00:00",
          "2021-09-04T15:00:00+00:00",
          "2021-09-05T15:00:00+00:00",
          "2021-09-06T15:00:00+00:00",
          "2021-09-07T15:00:00+00:00",
          "2021-09-08T15:00:00+00:00",
          "2021-09-09T15:00:00+00:00",
          "2021-09-10T15:00:00+00:00",
          "2021-09-11T15:00:00+00:00",
          "2021-09-12T15:00:00+00:00",
          "2021-09-13T15:00:00+00:00",
          "2021-09-14T15:00:00+00:00",
          "2021-09-15T15:00:00+00:00",
          "2021-09-16T15:00:00+00:00",
          "2021-09-17T15:00:00+00:00",
          "2021-09-18T15:00:00+00:00",
          "2021-09-19T15:00:00+00:00",
          "2021-09-20T15:00:00+00:00",
          "2021-09-21T15:00:00+00:00",
          "2021-09-22T15:00:00+00:00",
          "2021-09-23T15:00:00+00:00",
          "2021-09-24T15:00:00+00:00",
          "2021-09-25T15:00:00+00:00",
          "2021-09-26T15:00:00+00:00",
          "2021-09-27T15:00:00+00:00",
          "2021-09-28T15:00:00+00:00",
          "2021-09-29T15:00:00+00:00",
          "2021-09-30T15:00:00+00:00",
          "2021-10-01T15:00:00+00:00",
          "2021-10-02T15:00:00+00:00",
          "2021-10-03T15:00:00+00:00",
          "2021-10-04T15:00:00+00:00",
          "2021-10-05T15:00:00+00:00",
          "2021-10-06T15:00:00+00:00",
          "2021-10-07T15:00:00+00:00",
          "2021-10-08T15:00:00+00:00",
          "2021-10-09T15:00:00+00:00",
          "2021-10-10T15:00:00+00:00",
          "2021-10-11T15:00:00+00:00",
          "2021-10-12T15:00:00+00:00",
          "2021-10-13T15:00:00+00:00",
          "2021-10-14T15:00:00+00:00",
          "2021-10-15T15:00:00+00:00",
          "2021-10-16T15:00:00+00:00",
          "2021-10-17T15:00:00+00:00",
          "2021-10-18T15:00:00+00:00",
          "2021-10-19T15:00:00+00:00",
          "2021-10-20T15:00:00+00:00",
          "2021-10-21T15:00:00+00:00",
          "2021-10-22T15:00:00+00:00",
          "2021-10-23T15:00:00+00:00",
          "2021-10-24T15:00:00+00:00",
          "2021-10-25T15:00:00+00:00",
          "2021-10-26T15:00:00+00:00",
          "2021-10-27T15:00:00+00:00",
          "2021-10-28T15:00:00+00:00",
          "2021-10-29T15:00:00+00:00",
          "2021-10-30T15:00:00+00:00",
          "2021-10-31T15:00:00+00:00"
         ],
         "xaxis": "x",
         "y": [
          1,
          4,
          22,
          43,
          103,
          122,
          136,
          303,
          842,
          1124,
          1317,
          1487,
          1821,
          1923,
          2279,
          2866,
          3311,
          3608,
          3739,
          3974,
          4317,
          5071,
          5628,
          6349,
          7022,
          7981,
          8342,
          8825,
          9655,
          11250,
          12616,
          13785,
          15490,
          16307,
          16546,
          17374,
          18662,
          19852,
          21474,
          23578,
          24450,
          24949,
          26497,
          28593,
          31282,
          33787,
          35819,
          37244,
          38107,
          39036,
          41171,
          43783,
          46346,
          49410,
          51090,
          52131,
          54593,
          57054,
          60133,
          63675,
          67544,
          68947,
          70584,
          72626,
          76434,
          80418,
          80984,
          83424,
          86323,
          87779,
          90009,
          93099,
          96177,
          100272,
          104567,
          107615,
          111842,
          116694,
          120835,
          125869,
          131119,
          136344,
          140041,
          142101,
          146017,
          150840,
          155865,
          161695,
          167679,
          171261,
          174479,
          180396,
          186471,
          193075,
          200071,
          207386,
          212298,
          215824,
          222506,
          229279,
          235570,
          243552,
          251272,
          257541,
          261570,
          270905,
          279469,
          288235,
          296230,
          305246,
          310278,
          312766,
          321486,
          330928,
          341798,
          352345,
          362835,
          369539,
          375132,
          385811,
          396692,
          407505,
          419245,
          430705,
          438618,
          445440,
          455120,
          464049,
          473713,
          481778,
          491059,
          498134,
          502825,
          512038,
          520267,
          530711,
          539506,
          549378,
          556248,
          560878,
          568259,
          576048,
          584722,
          593222,
          602212,
          608679,
          612303,
          618688,
          624473,
          630603,
          636773,
          643833,
          650497,
          655001,
          661011,
          668329,
          675847,
          681939,
          688525,
          694122,
          697429,
          702407,
          707569,
          712747,
          716827,
          721879,
          725617,
          727438,
          728205,
          733057,
          736797,
          740557,
          744904,
          748699,
          750257,
          753283,
          757086,
          761822,
          765110,
          769330,
          773357,
          774957,
          777693,
          781330,
          784545,
          787569,
          790753,
          793331,
          794736,
          796672,
          799201,
          801803,
          804001,
          806566,
          808501,
          809816,
          811763,
          814010,
          816288,
          818200,
          820631,
          822258,
          822375,
          823737,
          825819,
          827895,
          829929,
          832128,
          833769,
          834937,
          836688,
          838594,
          840553,
          842462,
          844376,
          845826,
          846775,
          848518,
          850328,
          852054,
          853764,
          856011,
          857542,
          858519,
          860438,
          862330,
          864319,
          866155,
          868453,
          870070,
          871361,
          873198,
          875240,
          877266,
          879348,
          881666,
          883361,
          884561,
          886507,
          888714,
          890715,
          892622,
          894799,
          896406,
          897654,
          899650,
          902177,
          904483,
          906382,
          908938,
          910407,
          911655,
          913748,
          915941,
          918168,
          920415,
          922783,
          924783,
          926068,
          928180,
          930319,
          932435,
          934490,
          936782,
          938243,
          939466,
          939796,
          942264,
          944154,
          945929,
          948026,
          949501,
          950647,
          952197,
          953910,
          955601,
          957166,
          958847,
          960474,
          961482,
          962979,
          964611,
          966248,
          967853,
          969698,
          970978,
          972012,
          973384,
          975183,
          976824,
          978503,
          980370,
          981427,
          982357,
          983778,
          985256,
          986577,
          987907,
          989564,
          990772,
          991593,
          993004,
          994361,
          995726,
          997091,
          998536,
          999505,
          1000104,
          1001652,
          1002901,
          1004112,
          1005346,
          1006890,
          1007866,
          1008515,
          1009985,
          1011406,
          1012747,
          1014011,
          1015431,
          1016245,
          1016488
         ],
         "yaxis": "y"
        }
       ],
       "layout": {
        "legend": {
         "tracegroupgap": 0
        },
        "margin": {
         "t": 60
        },
        "template": {
         "data": {
          "bar": [
           {
            "error_x": {
             "color": "#2a3f5f"
            },
            "error_y": {
             "color": "#2a3f5f"
            },
            "marker": {
             "line": {
              "color": "#E5ECF6",
              "width": 0.5
             },
             "pattern": {
              "fillmode": "overlay",
              "size": 10,
              "solidity": 0.2
             }
            },
            "type": "bar"
           }
          ],
          "barpolar": [
           {
            "marker": {
             "line": {
              "color": "#E5ECF6",
              "width": 0.5
             },
             "pattern": {
              "fillmode": "overlay",
              "size": 10,
              "solidity": 0.2
             }
            },
            "type": "barpolar"
           }
          ],
          "carpet": [
           {
            "aaxis": {
             "endlinecolor": "#2a3f5f",
             "gridcolor": "white",
             "linecolor": "white",
             "minorgridcolor": "white",
             "startlinecolor": "#2a3f5f"
            },
            "baxis": {
             "endlinecolor": "#2a3f5f",
             "gridcolor": "white",
             "linecolor": "white",
             "minorgridcolor": "white",
             "startlinecolor": "#2a3f5f"
            },
            "type": "carpet"
           }
          ],
          "choropleth": [
           {
            "colorbar": {
             "outlinewidth": 0,
             "ticks": ""
            },
            "type": "choropleth"
           }
          ],
          "contour": [
           {
            "colorbar": {
             "outlinewidth": 0,
             "ticks": ""
            },
            "colorscale": [
             [
              0,
              "#0d0887"
             ],
             [
              0.1111111111111111,
              "#46039f"
             ],
             [
              0.2222222222222222,
              "#7201a8"
             ],
             [
              0.3333333333333333,
              "#9c179e"
             ],
             [
              0.4444444444444444,
              "#bd3786"
             ],
             [
              0.5555555555555556,
              "#d8576b"
             ],
             [
              0.6666666666666666,
              "#ed7953"
             ],
             [
              0.7777777777777778,
              "#fb9f3a"
             ],
             [
              0.8888888888888888,
              "#fdca26"
             ],
             [
              1,
              "#f0f921"
             ]
            ],
            "type": "contour"
           }
          ],
          "contourcarpet": [
           {
            "colorbar": {
             "outlinewidth": 0,
             "ticks": ""
            },
            "type": "contourcarpet"
           }
          ],
          "heatmap": [
           {
            "colorbar": {
             "outlinewidth": 0,
             "ticks": ""
            },
            "colorscale": [
             [
              0,
              "#0d0887"
             ],
             [
              0.1111111111111111,
              "#46039f"
             ],
             [
              0.2222222222222222,
              "#7201a8"
             ],
             [
              0.3333333333333333,
              "#9c179e"
             ],
             [
              0.4444444444444444,
              "#bd3786"
             ],
             [
              0.5555555555555556,
              "#d8576b"
             ],
             [
              0.6666666666666666,
              "#ed7953"
             ],
             [
              0.7777777777777778,
              "#fb9f3a"
             ],
             [
              0.8888888888888888,
              "#fdca26"
             ],
             [
              1,
              "#f0f921"
             ]
            ],
            "type": "heatmap"
           }
          ],
          "heatmapgl": [
           {
            "colorbar": {
             "outlinewidth": 0,
             "ticks": ""
            },
            "colorscale": [
             [
              0,
              "#0d0887"
             ],
             [
              0.1111111111111111,
              "#46039f"
             ],
             [
              0.2222222222222222,
              "#7201a8"
             ],
             [
              0.3333333333333333,
              "#9c179e"
             ],
             [
              0.4444444444444444,
              "#bd3786"
             ],
             [
              0.5555555555555556,
              "#d8576b"
             ],
             [
              0.6666666666666666,
              "#ed7953"
             ],
             [
              0.7777777777777778,
              "#fb9f3a"
             ],
             [
              0.8888888888888888,
              "#fdca26"
             ],
             [
              1,
              "#f0f921"
             ]
            ],
            "type": "heatmapgl"
           }
          ],
          "histogram": [
           {
            "marker": {
             "pattern": {
              "fillmode": "overlay",
              "size": 10,
              "solidity": 0.2
             }
            },
            "type": "histogram"
           }
          ],
          "histogram2d": [
           {
            "colorbar": {
             "outlinewidth": 0,
             "ticks": ""
            },
            "colorscale": [
             [
              0,
              "#0d0887"
             ],
             [
              0.1111111111111111,
              "#46039f"
             ],
             [
              0.2222222222222222,
              "#7201a8"
             ],
             [
              0.3333333333333333,
              "#9c179e"
             ],
             [
              0.4444444444444444,
              "#bd3786"
             ],
             [
              0.5555555555555556,
              "#d8576b"
             ],
             [
              0.6666666666666666,
              "#ed7953"
             ],
             [
              0.7777777777777778,
              "#fb9f3a"
             ],
             [
              0.8888888888888888,
              "#fdca26"
             ],
             [
              1,
              "#f0f921"
             ]
            ],
            "type": "histogram2d"
           }
          ],
          "histogram2dcontour": [
           {
            "colorbar": {
             "outlinewidth": 0,
             "ticks": ""
            },
            "colorscale": [
             [
              0,
              "#0d0887"
             ],
             [
              0.1111111111111111,
              "#46039f"
             ],
             [
              0.2222222222222222,
              "#7201a8"
             ],
             [
              0.3333333333333333,
              "#9c179e"
             ],
             [
              0.4444444444444444,
              "#bd3786"
             ],
             [
              0.5555555555555556,
              "#d8576b"
             ],
             [
              0.6666666666666666,
              "#ed7953"
             ],
             [
              0.7777777777777778,
              "#fb9f3a"
             ],
             [
              0.8888888888888888,
              "#fdca26"
             ],
             [
              1,
              "#f0f921"
             ]
            ],
            "type": "histogram2dcontour"
           }
          ],
          "mesh3d": [
           {
            "colorbar": {
             "outlinewidth": 0,
             "ticks": ""
            },
            "type": "mesh3d"
           }
          ],
          "parcoords": [
           {
            "line": {
             "colorbar": {
              "outlinewidth": 0,
              "ticks": ""
             }
            },
            "type": "parcoords"
           }
          ],
          "pie": [
           {
            "automargin": true,
            "type": "pie"
           }
          ],
          "scatter": [
           {
            "marker": {
             "colorbar": {
              "outlinewidth": 0,
              "ticks": ""
             }
            },
            "type": "scatter"
           }
          ],
          "scatter3d": [
           {
            "line": {
             "colorbar": {
              "outlinewidth": 0,
              "ticks": ""
             }
            },
            "marker": {
             "colorbar": {
              "outlinewidth": 0,
              "ticks": ""
             }
            },
            "type": "scatter3d"
           }
          ],
          "scattercarpet": [
           {
            "marker": {
             "colorbar": {
              "outlinewidth": 0,
              "ticks": ""
             }
            },
            "type": "scattercarpet"
           }
          ],
          "scattergeo": [
           {
            "marker": {
             "colorbar": {
              "outlinewidth": 0,
              "ticks": ""
             }
            },
            "type": "scattergeo"
           }
          ],
          "scattergl": [
           {
            "marker": {
             "colorbar": {
              "outlinewidth": 0,
              "ticks": ""
             }
            },
            "type": "scattergl"
           }
          ],
          "scattermapbox": [
           {
            "marker": {
             "colorbar": {
              "outlinewidth": 0,
              "ticks": ""
             }
            },
            "type": "scattermapbox"
           }
          ],
          "scatterpolar": [
           {
            "marker": {
             "colorbar": {
              "outlinewidth": 0,
              "ticks": ""
             }
            },
            "type": "scatterpolar"
           }
          ],
          "scatterpolargl": [
           {
            "marker": {
             "colorbar": {
              "outlinewidth": 0,
              "ticks": ""
             }
            },
            "type": "scatterpolargl"
           }
          ],
          "scatterternary": [
           {
            "marker": {
             "colorbar": {
              "outlinewidth": 0,
              "ticks": ""
             }
            },
            "type": "scatterternary"
           }
          ],
          "surface": [
           {
            "colorbar": {
             "outlinewidth": 0,
             "ticks": ""
            },
            "colorscale": [
             [
              0,
              "#0d0887"
             ],
             [
              0.1111111111111111,
              "#46039f"
             ],
             [
              0.2222222222222222,
              "#7201a8"
             ],
             [
              0.3333333333333333,
              "#9c179e"
             ],
             [
              0.4444444444444444,
              "#bd3786"
             ],
             [
              0.5555555555555556,
              "#d8576b"
             ],
             [
              0.6666666666666666,
              "#ed7953"
             ],
             [
              0.7777777777777778,
              "#fb9f3a"
             ],
             [
              0.8888888888888888,
              "#fdca26"
             ],
             [
              1,
              "#f0f921"
             ]
            ],
            "type": "surface"
           }
          ],
          "table": [
           {
            "cells": {
             "fill": {
              "color": "#EBF0F8"
             },
             "line": {
              "color": "white"
             }
            },
            "header": {
             "fill": {
              "color": "#C8D4E3"
             },
             "line": {
              "color": "white"
             }
            },
            "type": "table"
           }
          ]
         },
         "layout": {
          "annotationdefaults": {
           "arrowcolor": "#2a3f5f",
           "arrowhead": 0,
           "arrowwidth": 1
          },
          "autotypenumbers": "strict",
          "coloraxis": {
           "colorbar": {
            "outlinewidth": 0,
            "ticks": ""
           }
          },
          "colorscale": {
           "diverging": [
            [
             0,
             "#8e0152"
            ],
            [
             0.1,
             "#c51b7d"
            ],
            [
             0.2,
             "#de77ae"
            ],
            [
             0.3,
             "#f1b6da"
            ],
            [
             0.4,
             "#fde0ef"
            ],
            [
             0.5,
             "#f7f7f7"
            ],
            [
             0.6,
             "#e6f5d0"
            ],
            [
             0.7,
             "#b8e186"
            ],
            [
             0.8,
             "#7fbc41"
            ],
            [
             0.9,
             "#4d9221"
            ],
            [
             1,
             "#276419"
            ]
           ],
           "sequential": [
            [
             0,
             "#0d0887"
            ],
            [
             0.1111111111111111,
             "#46039f"
            ],
            [
             0.2222222222222222,
             "#7201a8"
            ],
            [
             0.3333333333333333,
             "#9c179e"
            ],
            [
             0.4444444444444444,
             "#bd3786"
            ],
            [
             0.5555555555555556,
             "#d8576b"
            ],
            [
             0.6666666666666666,
             "#ed7953"
            ],
            [
             0.7777777777777778,
             "#fb9f3a"
            ],
            [
             0.8888888888888888,
             "#fdca26"
            ],
            [
             1,
             "#f0f921"
            ]
           ],
           "sequentialminus": [
            [
             0,
             "#0d0887"
            ],
            [
             0.1111111111111111,
             "#46039f"
            ],
            [
             0.2222222222222222,
             "#7201a8"
            ],
            [
             0.3333333333333333,
             "#9c179e"
            ],
            [
             0.4444444444444444,
             "#bd3786"
            ],
            [
             0.5555555555555556,
             "#d8576b"
            ],
            [
             0.6666666666666666,
             "#ed7953"
            ],
            [
             0.7777777777777778,
             "#fb9f3a"
            ],
            [
             0.8888888888888888,
             "#fdca26"
            ],
            [
             1,
             "#f0f921"
            ]
           ]
          },
          "colorway": [
           "#636efa",
           "#EF553B",
           "#00cc96",
           "#ab63fa",
           "#FFA15A",
           "#19d3f3",
           "#FF6692",
           "#B6E880",
           "#FF97FF",
           "#FECB52"
          ],
          "font": {
           "color": "#2a3f5f"
          },
          "geo": {
           "bgcolor": "white",
           "lakecolor": "white",
           "landcolor": "#E5ECF6",
           "showlakes": true,
           "showland": true,
           "subunitcolor": "white"
          },
          "hoverlabel": {
           "align": "left"
          },
          "hovermode": "closest",
          "mapbox": {
           "style": "light"
          },
          "paper_bgcolor": "white",
          "plot_bgcolor": "#E5ECF6",
          "polar": {
           "angularaxis": {
            "gridcolor": "white",
            "linecolor": "white",
            "ticks": ""
           },
           "bgcolor": "#E5ECF6",
           "radialaxis": {
            "gridcolor": "white",
            "linecolor": "white",
            "ticks": ""
           }
          },
          "scene": {
           "xaxis": {
            "backgroundcolor": "#E5ECF6",
            "gridcolor": "white",
            "gridwidth": 2,
            "linecolor": "white",
            "showbackground": true,
            "ticks": "",
            "zerolinecolor": "white"
           },
           "yaxis": {
            "backgroundcolor": "#E5ECF6",
            "gridcolor": "white",
            "gridwidth": 2,
            "linecolor": "white",
            "showbackground": true,
            "ticks": "",
            "zerolinecolor": "white"
           },
           "zaxis": {
            "backgroundcolor": "#E5ECF6",
            "gridcolor": "white",
            "gridwidth": 2,
            "linecolor": "white",
            "showbackground": true,
            "ticks": "",
            "zerolinecolor": "white"
           }
          },
          "shapedefaults": {
           "line": {
            "color": "#2a3f5f"
           }
          },
          "ternary": {
           "aaxis": {
            "gridcolor": "white",
            "linecolor": "white",
            "ticks": ""
           },
           "baxis": {
            "gridcolor": "white",
            "linecolor": "white",
            "ticks": ""
           },
           "bgcolor": "#E5ECF6",
           "caxis": {
            "gridcolor": "white",
            "linecolor": "white",
            "ticks": ""
           }
          },
          "title": {
           "x": 0.05
          },
          "xaxis": {
           "automargin": true,
           "gridcolor": "white",
           "linecolor": "white",
           "ticks": "",
           "title": {
            "standoff": 15
           },
           "zerolinecolor": "white",
           "zerolinewidth": 2
          },
          "yaxis": {
           "automargin": true,
           "gridcolor": "white",
           "linecolor": "white",
           "ticks": "",
           "title": {
            "standoff": 15
           },
           "zerolinecolor": "white",
           "zerolinewidth": 2
          }
         }
        },
        "xaxis": {
         "anchor": "y",
         "domain": [
          0,
          1
         ],
         "title": {
          "text": "VaccinationDate"
         }
        },
        "yaxis": {
         "anchor": "x",
         "domain": [
          0,
          1
         ],
         "title": {
          "text": "Total Cumulative Vaccinations"
         }
        }
       }
      }
     },
     "metadata": {},
     "output_type": "display_data"
    }
   ],
   "source": [
    "import plotly.express as exp\n",
    "exp.line(pg, x=\"VaccinationDate\", y=\"Total Cumulative Vaccinations\")"
   ]
  },
  {
   "cell_type": "markdown",
   "metadata": {},
   "source": [
    "What the Maryland Department of Health could have done to improve how their presentation of the dataset is to create a checklist of standards the dataset should meet and have random people survey the data to see if it's viewable. They then should incorporate the feedback into their draft to better format the data. The dataset needs to also be strict enough to not contain unknown data. "
   ]
  },
  {
   "cell_type": "markdown",
   "metadata": {},
   "source": [
    "# Module 10 Assignment\n",
    "This is my module 10 for my jupyter notebook where we analyze a vaccination [dataset](https://coronavirus.maryland.gov/datasets/md-covid19-totalvaccinationscountyfirstandsecondsingledose/explore) provided by Maryland and combine it with the [dataset](https://planning.maryland.gov/MSDC/Pages/pop_estimate/popest_cnty.aspx) provided by the US census to create a new dataframe."
   ]
  },
  {
   "cell_type": "code",
   "execution_count": 11,
   "metadata": {},
   "outputs": [
    {
     "data": {
      "text/html": [
       "<div>\n",
       "<style scoped>\n",
       "    .dataframe tbody tr th:only-of-type {\n",
       "        vertical-align: middle;\n",
       "    }\n",
       "\n",
       "    .dataframe tbody tr th {\n",
       "        vertical-align: top;\n",
       "    }\n",
       "\n",
       "    .dataframe thead th {\n",
       "        text-align: right;\n",
       "    }\n",
       "</style>\n",
       "<table border=\"1\" class=\"dataframe\">\n",
       "  <thead>\n",
       "    <tr style=\"text-align: right;\">\n",
       "      <th></th>\n",
       "      <th>ObjectID</th>\n",
       "      <th>VaccinationDate</th>\n",
       "      <th>County</th>\n",
       "      <th>FirstDoseDaily</th>\n",
       "      <th>FirstDoseCumulative</th>\n",
       "      <th>SecondDoseDaily</th>\n",
       "      <th>SecondDoseCumulative</th>\n",
       "      <th>SingleDoseDaily</th>\n",
       "      <th>SingleDoseCumulative</th>\n",
       "      <th>AtLeastOneDose</th>\n",
       "      <th>FullyVaccinated</th>\n",
       "      <th>FullVaccinatedCumulative</th>\n",
       "      <th>AtLeastOneDoseCumulative</th>\n",
       "      <th>Total Cumulative Vaccinations</th>\n",
       "    </tr>\n",
       "  </thead>\n",
       "  <tbody>\n",
       "    <tr>\n",
       "      <th>0</th>\n",
       "      <td>1</td>\n",
       "      <td>2020-12-14 15:00:00+00:00</td>\n",
       "      <td>Anne Arundel</td>\n",
       "      <td>2.0</td>\n",
       "      <td>2</td>\n",
       "      <td>NaN</td>\n",
       "      <td>0</td>\n",
       "      <td>NaN</td>\n",
       "      <td>0</td>\n",
       "      <td>NaN</td>\n",
       "      <td>NaN</td>\n",
       "      <td>0</td>\n",
       "      <td>2</td>\n",
       "      <td>2</td>\n",
       "    </tr>\n",
       "    <tr>\n",
       "      <th>1</th>\n",
       "      <td>2</td>\n",
       "      <td>2020-12-15 15:00:00+00:00</td>\n",
       "      <td>Anne Arundel</td>\n",
       "      <td>4.0</td>\n",
       "      <td>6</td>\n",
       "      <td>NaN</td>\n",
       "      <td>0</td>\n",
       "      <td>NaN</td>\n",
       "      <td>0</td>\n",
       "      <td>NaN</td>\n",
       "      <td>NaN</td>\n",
       "      <td>0</td>\n",
       "      <td>6</td>\n",
       "      <td>6</td>\n",
       "    </tr>\n",
       "    <tr>\n",
       "      <th>2</th>\n",
       "      <td>3</td>\n",
       "      <td>2020-12-16 15:00:00+00:00</td>\n",
       "      <td>Anne Arundel</td>\n",
       "      <td>56.0</td>\n",
       "      <td>62</td>\n",
       "      <td>NaN</td>\n",
       "      <td>0</td>\n",
       "      <td>NaN</td>\n",
       "      <td>0</td>\n",
       "      <td>NaN</td>\n",
       "      <td>NaN</td>\n",
       "      <td>0</td>\n",
       "      <td>62</td>\n",
       "      <td>62</td>\n",
       "    </tr>\n",
       "    <tr>\n",
       "      <th>3</th>\n",
       "      <td>4</td>\n",
       "      <td>2020-12-17 15:00:00+00:00</td>\n",
       "      <td>Anne Arundel</td>\n",
       "      <td>104.0</td>\n",
       "      <td>166</td>\n",
       "      <td>NaN</td>\n",
       "      <td>0</td>\n",
       "      <td>NaN</td>\n",
       "      <td>0</td>\n",
       "      <td>NaN</td>\n",
       "      <td>NaN</td>\n",
       "      <td>0</td>\n",
       "      <td>166</td>\n",
       "      <td>166</td>\n",
       "    </tr>\n",
       "    <tr>\n",
       "      <th>4</th>\n",
       "      <td>5</td>\n",
       "      <td>2020-12-18 15:00:00+00:00</td>\n",
       "      <td>Anne Arundel</td>\n",
       "      <td>181.0</td>\n",
       "      <td>347</td>\n",
       "      <td>NaN</td>\n",
       "      <td>0</td>\n",
       "      <td>NaN</td>\n",
       "      <td>0</td>\n",
       "      <td>NaN</td>\n",
       "      <td>NaN</td>\n",
       "      <td>0</td>\n",
       "      <td>347</td>\n",
       "      <td>347</td>\n",
       "    </tr>\n",
       "    <tr>\n",
       "      <th>...</th>\n",
       "      <td>...</td>\n",
       "      <td>...</td>\n",
       "      <td>...</td>\n",
       "      <td>...</td>\n",
       "      <td>...</td>\n",
       "      <td>...</td>\n",
       "      <td>...</td>\n",
       "      <td>...</td>\n",
       "      <td>...</td>\n",
       "      <td>...</td>\n",
       "      <td>...</td>\n",
       "      <td>...</td>\n",
       "      <td>...</td>\n",
       "      <td>...</td>\n",
       "    </tr>\n",
       "    <tr>\n",
       "      <th>8167</th>\n",
       "      <td>8168</td>\n",
       "      <td>2021-10-27 15:00:00+00:00</td>\n",
       "      <td>Prince George's</td>\n",
       "      <td>638.0</td>\n",
       "      <td>534539</td>\n",
       "      <td>703.0</td>\n",
       "      <td>478208</td>\n",
       "      <td>45.0</td>\n",
       "      <td>30906</td>\n",
       "      <td>683.0</td>\n",
       "      <td>748.0</td>\n",
       "      <td>509114</td>\n",
       "      <td>565445</td>\n",
       "      <td>1012747</td>\n",
       "    </tr>\n",
       "    <tr>\n",
       "      <th>8168</th>\n",
       "      <td>8169</td>\n",
       "      <td>2021-10-28 15:00:00+00:00</td>\n",
       "      <td>Prince George's</td>\n",
       "      <td>543.0</td>\n",
       "      <td>535082</td>\n",
       "      <td>721.0</td>\n",
       "      <td>478929</td>\n",
       "      <td>26.0</td>\n",
       "      <td>30932</td>\n",
       "      <td>569.0</td>\n",
       "      <td>747.0</td>\n",
       "      <td>509861</td>\n",
       "      <td>566014</td>\n",
       "      <td>1014011</td>\n",
       "    </tr>\n",
       "    <tr>\n",
       "      <th>8169</th>\n",
       "      <td>8170</td>\n",
       "      <td>2021-10-29 15:00:00+00:00</td>\n",
       "      <td>Prince George's</td>\n",
       "      <td>627.0</td>\n",
       "      <td>535709</td>\n",
       "      <td>793.0</td>\n",
       "      <td>479722</td>\n",
       "      <td>32.0</td>\n",
       "      <td>30964</td>\n",
       "      <td>659.0</td>\n",
       "      <td>825.0</td>\n",
       "      <td>510686</td>\n",
       "      <td>566673</td>\n",
       "      <td>1015431</td>\n",
       "    </tr>\n",
       "    <tr>\n",
       "      <th>8170</th>\n",
       "      <td>8171</td>\n",
       "      <td>2021-10-30 15:00:00+00:00</td>\n",
       "      <td>Prince George's</td>\n",
       "      <td>356.0</td>\n",
       "      <td>536065</td>\n",
       "      <td>458.0</td>\n",
       "      <td>480180</td>\n",
       "      <td>10.0</td>\n",
       "      <td>30974</td>\n",
       "      <td>366.0</td>\n",
       "      <td>468.0</td>\n",
       "      <td>511154</td>\n",
       "      <td>567039</td>\n",
       "      <td>1016245</td>\n",
       "    </tr>\n",
       "    <tr>\n",
       "      <th>8171</th>\n",
       "      <td>8172</td>\n",
       "      <td>2021-10-31 15:00:00+00:00</td>\n",
       "      <td>Prince George's</td>\n",
       "      <td>108.0</td>\n",
       "      <td>536173</td>\n",
       "      <td>135.0</td>\n",
       "      <td>480315</td>\n",
       "      <td>3.0</td>\n",
       "      <td>30977</td>\n",
       "      <td>111.0</td>\n",
       "      <td>138.0</td>\n",
       "      <td>511292</td>\n",
       "      <td>567150</td>\n",
       "      <td>1016488</td>\n",
       "    </tr>\n",
       "  </tbody>\n",
       "</table>\n",
       "<p>8172 rows × 14 columns</p>\n",
       "</div>"
      ],
      "text/plain": [
       "      ObjectID           VaccinationDate           County  FirstDoseDaily  \\\n",
       "0            1 2020-12-14 15:00:00+00:00     Anne Arundel             2.0   \n",
       "1            2 2020-12-15 15:00:00+00:00     Anne Arundel             4.0   \n",
       "2            3 2020-12-16 15:00:00+00:00     Anne Arundel            56.0   \n",
       "3            4 2020-12-17 15:00:00+00:00     Anne Arundel           104.0   \n",
       "4            5 2020-12-18 15:00:00+00:00     Anne Arundel           181.0   \n",
       "...        ...                       ...              ...             ...   \n",
       "8167      8168 2021-10-27 15:00:00+00:00  Prince George's           638.0   \n",
       "8168      8169 2021-10-28 15:00:00+00:00  Prince George's           543.0   \n",
       "8169      8170 2021-10-29 15:00:00+00:00  Prince George's           627.0   \n",
       "8170      8171 2021-10-30 15:00:00+00:00  Prince George's           356.0   \n",
       "8171      8172 2021-10-31 15:00:00+00:00  Prince George's           108.0   \n",
       "\n",
       "      FirstDoseCumulative  SecondDoseDaily  SecondDoseCumulative  \\\n",
       "0                       2              NaN                     0   \n",
       "1                       6              NaN                     0   \n",
       "2                      62              NaN                     0   \n",
       "3                     166              NaN                     0   \n",
       "4                     347              NaN                     0   \n",
       "...                   ...              ...                   ...   \n",
       "8167               534539            703.0                478208   \n",
       "8168               535082            721.0                478929   \n",
       "8169               535709            793.0                479722   \n",
       "8170               536065            458.0                480180   \n",
       "8171               536173            135.0                480315   \n",
       "\n",
       "      SingleDoseDaily  SingleDoseCumulative  AtLeastOneDose  FullyVaccinated  \\\n",
       "0                 NaN                     0             NaN              NaN   \n",
       "1                 NaN                     0             NaN              NaN   \n",
       "2                 NaN                     0             NaN              NaN   \n",
       "3                 NaN                     0             NaN              NaN   \n",
       "4                 NaN                     0             NaN              NaN   \n",
       "...               ...                   ...             ...              ...   \n",
       "8167             45.0                 30906           683.0            748.0   \n",
       "8168             26.0                 30932           569.0            747.0   \n",
       "8169             32.0                 30964           659.0            825.0   \n",
       "8170             10.0                 30974           366.0            468.0   \n",
       "8171              3.0                 30977           111.0            138.0   \n",
       "\n",
       "      FullVaccinatedCumulative  AtLeastOneDoseCumulative  \\\n",
       "0                            0                         2   \n",
       "1                            0                         6   \n",
       "2                            0                        62   \n",
       "3                            0                       166   \n",
       "4                            0                       347   \n",
       "...                        ...                       ...   \n",
       "8167                    509114                    565445   \n",
       "8168                    509861                    566014   \n",
       "8169                    510686                    566673   \n",
       "8170                    511154                    567039   \n",
       "8171                    511292                    567150   \n",
       "\n",
       "      Total Cumulative Vaccinations  \n",
       "0                                 2  \n",
       "1                                 6  \n",
       "2                                62  \n",
       "3                               166  \n",
       "4                               347  \n",
       "...                             ...  \n",
       "8167                        1012747  \n",
       "8168                        1014011  \n",
       "8169                        1015431  \n",
       "8170                        1016245  \n",
       "8171                        1016488  \n",
       "\n",
       "[8172 rows x 14 columns]"
      ]
     },
     "execution_count": 11,
     "metadata": {},
     "output_type": "execute_result"
    }
   ],
   "source": [
    "df.to_csv(\"vaccinations-md.csv\", index=False, encoding=\"utf-8\")\n",
    "df"
   ]
  }
 ],
 "metadata": {
  "interpreter": {
   "hash": "696de626d53fede15609624413fe6e0758fb0918a36e275ebdecd1ca20c5298d"
  },
  "kernelspec": {
   "display_name": "Python 3.9.6 64-bit",
   "name": "python3"
  },
  "language_info": {
   "codemirror_mode": {
    "name": "ipython",
    "version": 3
   },
   "file_extension": ".py",
   "mimetype": "text/x-python",
   "name": "python",
   "nbconvert_exporter": "python",
   "pygments_lexer": "ipython3",
   "version": "3.9.6"
  },
  "orig_nbformat": 4
 },
 "nbformat": 4,
 "nbformat_minor": 2
}
